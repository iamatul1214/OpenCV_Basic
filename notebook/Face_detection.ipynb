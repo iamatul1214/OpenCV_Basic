{
 "cells": [
  {
   "cell_type": "code",
   "execution_count": 1,
   "metadata": {},
   "outputs": [],
   "source": [
    "import cv2\n",
    "import os\n"
   ]
  },
  {
   "cell_type": "code",
   "execution_count": 2,
   "metadata": {},
   "outputs": [
    {
     "name": "stdout",
     "output_type": "stream",
     "text": [
      "/c/Users/atulkumarrai/PycharmProjects/Ineuron practice/Ineuron_practice/OpenCV_Basic/notebook\n",
      "/c/Users/atulkumarrai/PycharmProjects/Ineuron practice/Ineuron_practice/OpenCV_Basic\n"
     ]
    }
   ],
   "source": [
    "import os\n",
    "!pwd\n",
    "os.chdir(\"../\")\n",
    "!pwd"
   ]
  },
  {
   "cell_type": "code",
   "execution_count": 4,
   "metadata": {},
   "outputs": [],
   "source": [
    "def capture_faces(face_name, cam_index, count_of_images):\n",
    "    cam_idx = cam_index\n",
    "    cap = cv2.VideoCapture(cam_idx)\n",
    "    image_count = 0\n",
    "    class_name = face_name\n",
    "    os.makedirs(f\"./Live_Face_samples/{class_name}\", exist_ok = True)\n",
    "    while True:\n",
    "        istrue, frame = cap.read()\n",
    "\n",
    "        cv2.putText(frame, str(image_count), (50,50), cv2.FONT_HERSHEY_COMPLEX, 1, (0,255,0),2)\n",
    "        cv2.imshow(\"video capture\", frame)\n",
    "        cv2.imwrite(f\"Live_Face_samples/{class_name}/sample_{image_count}.jpg\", frame)\n",
    "\n",
    "        image_count +=1\n",
    "\n",
    "        if (cv2.waitKey(1) & 0xFF == ord('q') or image_count == count_of_images):\n",
    "            break\n",
    "\n",
    "    cap.release()\n",
    "    cv2.destroyAllWindows()\n",
    "\n",
    "capture_faces(face_name = \"Atul\", cam_index=0, count_of_images=200)"
   ]
  },
  {
   "cell_type": "markdown",
   "metadata": {},
   "source": [
    "## Create a CNN to recognize the face"
   ]
  },
  {
   "cell_type": "code",
   "execution_count": null,
   "metadata": {},
   "outputs": [],
   "source": []
  }
 ],
 "metadata": {
  "interpreter": {
   "hash": "4c0e83c2f376c1c2c5e9eeb860c9d1a56c758a700628976d90dc7ae06b3af30b"
  },
  "kernelspec": {
   "display_name": "Python 3.7.13 ('OpenCV_Basics')",
   "language": "python",
   "name": "python3"
  },
  "language_info": {
   "codemirror_mode": {
    "name": "ipython",
    "version": 3
   },
   "file_extension": ".py",
   "mimetype": "text/x-python",
   "name": "python",
   "nbconvert_exporter": "python",
   "pygments_lexer": "ipython3",
   "version": "3.7.13"
  },
  "orig_nbformat": 4
 },
 "nbformat": 4,
 "nbformat_minor": 2
}
