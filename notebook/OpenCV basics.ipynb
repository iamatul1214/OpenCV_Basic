{
 "cells": [
  {
   "cell_type": "code",
   "execution_count": 1,
   "id": "1e59e755",
   "metadata": {},
   "outputs": [],
   "source": [
    "import cv2\n",
    "import matplotlib\n",
    "import os\n",
    "from pathlib import Path"
   ]
  },
  {
   "cell_type": "code",
   "execution_count": 4,
   "id": "14b5105e",
   "metadata": {},
   "outputs": [
    {
     "name": "stdout",
     "output_type": "stream",
     "text": [
      "..\\sample_imgs\\cat.jpg\n"
     ]
    }
   ],
   "source": [
    "filepath = str(Path(\"../sample_imgs/cat.jpg\"))\n",
    "print(filepath)\n",
    "rgb_img = cv2.imread(filepath)"
   ]
  },
  {
   "cell_type": "code",
   "execution_count": 5,
   "id": "4479bba4",
   "metadata": {},
   "outputs": [],
   "source": [
    "cv2.imshow(\"Atul's rgb image\", rgb_img)"
   ]
  },
  {
   "cell_type": "markdown",
   "id": "1ff83355",
   "metadata": {},
   "source": [
    "## Drawing the shapes on the images"
   ]
  },
  {
   "cell_type": "code",
   "execution_count": 8,
   "id": "5b850466",
   "metadata": {},
   "outputs": [],
   "source": [
    "rectangle_shape = cv2.rectangle(rgb_img, (384,0),(510,128),(0,150,255),3)\n",
    "cv2.imshow(\"rectangle_show\", rectangle_shape)\n",
    "cv2.waitKey(0)\n",
    "cv2.destroyAllWindows()"
   ]
  },
  {
   "cell_type": "markdown",
   "id": "12a1001d",
   "metadata": {},
   "source": [
    "## Example for video"
   ]
  },
  {
   "cell_type": "code",
   "execution_count": 3,
   "id": "400ed38f",
   "metadata": {},
   "outputs": [],
   "source": [
    "cam_idx = 0\n",
    "cap = cv2.VideoCapture(cam_idx)\n",
    "\n",
    "while True:\n",
    "    # Capturing the frame\n",
    "    ret, frame = cap.read()\n",
    "    # print(ret)\n",
    "    # if not ret:\n",
    "    #     print(\"nothing captured\")\n",
    "    #     break\n",
    "\n",
    "\n",
    "    # Put text on image\n",
    "    font = cv2.FONT_ITALIC\n",
    "    predicted_class = \"Atul\" #<< from your model\n",
    "    # print(x)\n",
    "    # print(frame.shape)\n",
    "    cv2.putText(frame, predicted_class, (480//2, 640//2), font, 1, (255, 0, 0), 2)\n",
    "    cv2.imshow(\"vid frame\", frame)\n",
    "    \n",
    "    if cv2.waitKey(1) & 0xFF == ord('q'):\n",
    "        break\n",
    "\n",
    "cap.release()\n",
    "cv2.destroyAllWindows()"
   ]
  },
  {
   "cell_type": "code",
   "execution_count": null,
   "id": "8f642f8e",
   "metadata": {},
   "outputs": [],
   "source": []
  }
 ],
 "metadata": {
  "kernelspec": {
   "display_name": "Python 3 (ipykernel)",
   "language": "python",
   "name": "python3"
  },
  "language_info": {
   "codemirror_mode": {
    "name": "ipython",
    "version": 3
   },
   "file_extension": ".py",
   "mimetype": "text/x-python",
   "name": "python",
   "nbconvert_exporter": "python",
   "pygments_lexer": "ipython3",
   "version": "3.7.13"
  }
 },
 "nbformat": 4,
 "nbformat_minor": 5
}
